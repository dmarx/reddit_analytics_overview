{
 "cells": [
  {
   "cell_type": "code",
   "execution_count": 1,
   "metadata": {
    "collapsed": false,
    "slideshow": {
     "slide_type": "notes"
    }
   },
   "outputs": [
    {
     "name": "stdout",
     "output_type": "stream",
     "text": [
      "C:\\Users\\davidmarx\\Documents\\Projects\\Business Development\\Go Fish\n"
     ]
    }
   ],
   "source": [
    "cd C:\\Users\\davidmarx\\Documents\\Projects\\Business Development\\Go Fish"
   ]
  },
  {
   "cell_type": "code",
   "execution_count": 2,
   "metadata": {
    "collapsed": true,
    "slideshow": {
     "slide_type": "notes"
    }
   },
   "outputs": [],
   "source": [
    "# ipython nbconvert presentation.ipynb --to slides --post serve"
   ]
  },
  {
   "cell_type": "code",
   "execution_count": 3,
   "metadata": {
    "collapsed": false
   },
   "outputs": [
    {
     "data": {
      "text/html": [
       "<script>\n",
       "code_show=true; \n",
       "function code_toggle() {\n",
       " if (code_show){\n",
       " $('div.input').hide();\n",
       " } else {\n",
       " $('div.input').show();\n",
       " }\n",
       " code_show = !code_show\n",
       "} \n",
       "$( document ).ready(code_toggle);\n",
       "</script>\n",
       "The raw code for this IPython notebook is by default hidden for easier reading.\n",
       "To toggle on/off the raw code, click <a href=\"javascript:code_toggle()\">here</a>."
      ],
      "text/plain": [
       "<IPython.core.display.HTML object>"
      ]
     },
     "execution_count": 3,
     "metadata": {},
     "output_type": "execute_result"
    }
   ],
   "source": [
    "# ERI reveal.js styling\n",
    "from IPython.core.display import HTML\n",
    "import urllib2\n",
    "\n",
    "HTML('''<script>\n",
    "code_show=true; \n",
    "function code_toggle() {\n",
    " if (code_show){\n",
    " $('div.input').hide();\n",
    " } else {\n",
    " $('div.input').show();\n",
    " }\n",
    " code_show = !code_show\n",
    "} \n",
    "$( document ).ready(code_toggle);\n",
    "</script>\n",
    "The raw code for this IPython notebook is by default hidden for easier reading.\n",
    "To toggle on/off the raw code, click <a href=\"javascript:code_toggle()\">here</a>.''')"
   ]
  },
  {
   "cell_type": "code",
   "execution_count": 4,
   "metadata": {
    "collapsed": false
   },
   "outputs": [],
   "source": [
    "#HTML('<style>' + \n",
    "#     urllib2.urlopen('https://raw.githubusercontent.com/ElderResearch/reveal-eri-template/master/css/eri.css').read() +\n",
    "#     '</style>'\n",
    "#    )"
   ]
  },
  {
   "cell_type": "code",
   "execution_count": 5,
   "metadata": {
    "collapsed": false
   },
   "outputs": [],
   "source": [
    "#HTML('<style>' + \n",
    "#     urllib2.urlopen('https://raw.githubusercontent.com/ElderResearch/reveal-eri-template/master/css/reveal.min.css').read() +\n",
    "#     '</style>'\n",
    "#    )"
   ]
  },
  {
   "cell_type": "code",
   "execution_count": 6,
   "metadata": {
    "collapsed": false
   },
   "outputs": [],
   "source": [
    "#HTML('<style>' + \n",
    "#     urllib2.urlopen('https://raw.githubusercontent.com/ElderResearch/reveal-eri-template/master/css/xcode.css').read() +\n",
    "#     '</style>'\n",
    "#    )"
   ]
  },
  {
   "cell_type": "markdown",
   "metadata": {
    "slideshow": {
     "slide_type": "slide"
    }
   },
   "source": [
    "# Analyzing Reddit\n",
    "\n",
    "* David Marx @DigThatData\n",
    "* http://dmarx.github.io\n",
    "* http://ElderResearch.com"
   ]
  },
  {
   "cell_type": "markdown",
   "metadata": {
    "slideshow": {
     "slide_type": "slide"
    }
   },
   "source": [
    "## Projects\n",
    "* Community Structure\n",
    "* Community Instability\n",
    "* Community Evolution\n",
    "* Regional Peak Activity\n",
    "* Associating Subreddit Traffic Bursts with Specific Comments\n",
    "* Conversation Monitoring"
   ]
  },
  {
   "cell_type": "markdown",
   "metadata": {
    "slideshow": {
     "slide_type": "slide"
    }
   },
   "source": [
    "# Community Structure"
   ]
  },
  {
   "cell_type": "markdown",
   "metadata": {
    "slideshow": {
     "slide_type": "subslide"
    }
   },
   "source": [
    "## Reddit as a graph\n",
    "* Subreddits = Nodes\n",
    "* Connections = edges"
   ]
  },
  {
   "cell_type": "markdown",
   "metadata": {
    "slideshow": {
     "slide_type": "fragment"
    }
   },
   "source": [
    "* Different kinds of edges\n",
    "  * Shared users\n",
    "  * How subreddits get talked about"
   ]
  },
  {
   "cell_type": "markdown",
   "metadata": {
    "slideshow": {
     "slide_type": "fragment"
    }
   },
   "source": [
    "* Hierarchical structure"
   ]
  },
  {
   "cell_type": "markdown",
   "metadata": {
    "slideshow": {
     "slide_type": "subslide"
    }
   },
   "source": [
    "### Guns\n",
    "![Guns](images/subgraphs/guns.png)"
   ]
  },
  {
   "cell_type": "markdown",
   "metadata": {
    "slideshow": {
     "slide_type": "subslide"
    }
   },
   "source": [
    "### Minecraft\n",
    "![Minecraft](images/subgraphs/minecraft.png)"
   ]
  },
  {
   "cell_type": "markdown",
   "metadata": {
    "slideshow": {
     "slide_type": "subslide"
    }
   },
   "source": [
    "### Pokemon\n",
    "![Pokemon](images/subgraphs/pokemon.png)"
   ]
  },
  {
   "cell_type": "markdown",
   "metadata": {
    "slideshow": {
     "slide_type": "subslide"
    }
   },
   "source": [
    "### Washington DC\n",
    "![Washington DC](images/subgraphs/washingtondc.png)"
   ]
  },
  {
   "cell_type": "markdown",
   "metadata": {
    "slideshow": {
     "slide_type": "subslide"
    }
   },
   "source": [
    "### Underworld/Drugs\n",
    "![Underworld/Drugs](images/subgraphs/underworld_drugs.png)"
   ]
  },
  {
   "cell_type": "code",
   "execution_count": 7,
   "metadata": {
    "collapsed": false,
    "slideshow": {
     "slide_type": "subslide"
    }
   },
   "outputs": [
    {
     "data": {
      "text/html": [
       "\n",
       "<script>$('div.input').hide();</script>\n",
       "<iframe \n",
       "    src=\"https://dmarx.github.io/SubredditMentionsGraph/network/\" \n",
       "    marginwidth=\"0\" \n",
       "    marginheight=\"0\"\n",
       "    width=\"900\" \n",
       "    height=\"900\"    \n",
       "    scrolling=\"no\"\n",
       "    >\n",
       "</iframe>\n"
      ],
      "text/plain": [
       "<IPython.core.display.HTML object>"
      ]
     },
     "execution_count": 7,
     "metadata": {},
     "output_type": "execute_result"
    }
   ],
   "source": [
    "#hideme\n",
    "from IPython.display import display, HTML\n",
    "HTML(\"\"\"\n",
    "<script>$('div.input').hide();</script>\n",
    "<iframe \n",
    "    src=\"https://dmarx.github.io/SubredditMentionsGraph/network/\" \n",
    "    marginwidth=\"0\" \n",
    "    marginheight=\"0\"\n",
    "    width=\"900\" \n",
    "    height=\"900\"    \n",
    "    scrolling=\"no\"\n",
    "    >\n",
    "</iframe>\n",
    "\"\"\")"
   ]
  },
  {
   "cell_type": "markdown",
   "metadata": {
    "slideshow": {
     "slide_type": "slide"
    }
   },
   "source": [
    "# Community Instability"
   ]
  },
  {
   "cell_type": "markdown",
   "metadata": {
    "slideshow": {
     "slide_type": "subslide"
    }
   },
   "source": [
    "## Reddit as a dynamic graph\n",
    "* Window over data, separate graph for each timeslice"
   ]
  },
  {
   "cell_type": "markdown",
   "metadata": {
    "slideshow": {
     "slide_type": "fragment"
    }
   },
   "source": [
    "## Graph Anomaly Detection\n",
    "* Calculate statistics on individual nodes in each time slice\n",
    "* Normalize relative to past and future slices\n",
    "* Identify local anomalies\n",
    "* Aggregate statistics on a given time slice to identify anomalous time periods"
   ]
  },
  {
   "cell_type": "markdown",
   "metadata": {
    "slideshow": {
     "slide_type": "subslide"
    }
   },
   "source": [
    "![images/Reddit_Anomalies.png](images/Reddit_Anomalies.png)"
   ]
  },
  {
   "cell_type": "markdown",
   "metadata": {
    "slideshow": {
     "slide_type": "slide"
    }
   },
   "source": [
    "# Community Evolution"
   ]
  },
  {
   "cell_type": "markdown",
   "metadata": {
    "slideshow": {
     "slide_type": "subslide"
    }
   },
   "source": [
    "## Monitor changes in the dynamic graph over time\n",
    "* User base\n",
    "* Community structure"
   ]
  },
  {
   "cell_type": "markdown",
   "metadata": {
    "slideshow": {
     "slide_type": "subslide"
    }
   },
   "source": [
    "![Active Users](images/Reddit_Active_Users.png)"
   ]
  },
  {
   "cell_type": "markdown",
   "metadata": {
    "slideshow": {
     "slide_type": "subslide"
    }
   },
   "source": [
    "![Active Subreddits](images/Reddit_Active_Subreddits.png)"
   ]
  },
  {
   "cell_type": "markdown",
   "metadata": {
    "slideshow": {
     "slide_type": "subslide"
    }
   },
   "source": [
    "![Reddit Communities.png](images/Reddit_Communities.png)"
   ]
  },
  {
   "cell_type": "markdown",
   "metadata": {
    "slideshow": {
     "slide_type": "subslide"
    }
   },
   "source": [
    "![Reddit Modularity.png](images/Reddit_Modularity.png)"
   ]
  },
  {
   "cell_type": "markdown",
   "metadata": {
    "slideshow": {
     "slide_type": "slide"
    }
   },
   "source": [
    "# Regional Activity"
   ]
  },
  {
   "cell_type": "markdown",
   "metadata": {
    "slideshow": {
     "slide_type": "subslide"
    }
   },
   "source": [
    "## Activity Profiling\n",
    "* Assume most subscribers of regional subreddits live there\n",
    "* Construct an activity profile for the region from these users"
   ]
  },
  {
   "cell_type": "markdown",
   "metadata": {
    "slideshow": {
     "slide_type": "subslide"
    }
   },
   "source": [
    "![DC Reddit Activity](images/dc_reddit_activity.png)"
   ]
  },
  {
   "cell_type": "markdown",
   "metadata": {
    "slideshow": {
     "slide_type": "slide"
    }
   },
   "source": [
    "# Associating Subreddit Traffic Bursts with Specific Comments"
   ]
  },
  {
   "cell_type": "markdown",
   "metadata": {
    "slideshow": {
     "slide_type": "subslide"
    }
   },
   "source": [
    "## SubredditMentions.com\n",
    "* Scrape comments for \"subreddit mentions\"\n",
    "* Overlay on visualization of subreddit traffic"
   ]
  },
  {
   "cell_type": "markdown",
   "metadata": {
    "slideshow": {
     "slide_type": "fragment"
    }
   },
   "source": [
    "* ... Not actively maintained, backend scraper goes down a lot"
   ]
  },
  {
   "cell_type": "code",
   "execution_count": 8,
   "metadata": {
    "collapsed": false,
    "slideshow": {
     "slide_type": "subslide"
    }
   },
   "outputs": [
    {
     "data": {
      "text/html": [
       "\n",
       "<script>$('div.input').hide();</script>\n",
       "<iframe \n",
       "    src=\"http://subredditmentions.com/\" \n",
       "    marginwidth=\"0\" \n",
       "    marginheight=\"0\"\n",
       "    width=\"900\" \n",
       "    height=\"1000\"    \n",
       "    scrolling=\"no\"\n",
       "    >\n",
       "</iframe>\n"
      ],
      "text/plain": [
       "<IPython.core.display.HTML object>"
      ]
     },
     "execution_count": 8,
     "metadata": {},
     "output_type": "execute_result"
    }
   ],
   "source": [
    "HTML(\"\"\"\n",
    "<script>$('div.input').hide();</script>\n",
    "<iframe \n",
    "    src=\"http://subredditmentions.com/\" \n",
    "    marginwidth=\"0\" \n",
    "    marginheight=\"0\"\n",
    "    width=\"900\" \n",
    "    height=\"1000\"    \n",
    "    scrolling=\"no\"\n",
    "    >\n",
    "</iframe>\n",
    "\"\"\")"
   ]
  },
  {
   "cell_type": "markdown",
   "metadata": {
    "slideshow": {
     "slide_type": "slide"
    }
   },
   "source": [
    "# Conversation Monitoring"
   ]
  },
  {
   "cell_type": "markdown",
   "metadata": {
    "slideshow": {
     "slide_type": "subslide"
    }
   },
   "source": [
    "## Hilldog Bot\n",
    "* Monitor comments containing keywords\n",
    "* Get a \"pulse\" for community sentiment on a particular topic\n",
    "* Potential application: rapid response to negative portrayals of brand"
   ]
  },
  {
   "cell_type": "code",
   "execution_count": 9,
   "metadata": {
    "collapsed": false,
    "slideshow": {
     "slide_type": "subslide"
    }
   },
   "outputs": [
    {
     "data": {
      "text/html": [
       "\n",
       "\n",
       "<h2>Simplified \"hilldog-bot\" demo</h2>\n",
       "\n",
       "<a href=\"javascript:hilldog_toggle()\">Toggle Scraper</a><br>\n",
       "\n",
       "<a href=\"javascript:clear_output()\">Clear Output</a><br>\n",
       "\n",
       "SCRAPER IS <span id=\"scraper-is-running\" style=\"display: none;\">NOT</span> RUNNING.<br>\n",
       "\n",
       "Found <span id=\"relevant-count\">0</span> relevant comments.\n",
       "\n",
       "<hr>\n",
       "\n",
       "<div id=\"reddit-content\" style=\"overflow: auto; height: 400px;\"></div>\n",
       "\n",
       "<script>\n",
       "var processed_comments = [],\n",
       "    run_hilldog=true; \n",
       "    \n",
       "function hilldog_toggle() {\n",
       "  run_hilldog = !run_hilldog;\n",
       "  \n",
       "  if(run_hilldog){\n",
       "    $('#scraper-is-running').hide();\n",
       "  } else {\n",
       "    $('#scraper-is-running').show();\n",
       "  }\n",
       "}\n",
       "  \n",
       "function clear_output() {\n",
       "  $(\"#reddit-content\").text('');\n",
       "}\n",
       "\n",
       "var t = setInterval(function() {\n",
       "  if(!run_hilldog){return null;};\n",
       "  \n",
       "  $.ajax({\n",
       "      url: 'https://www.reddit.com/r/all/comments.json',\n",
       "      type: 'GET'\n",
       "  }).then(\n",
       "    function(data) {\n",
       "      var comments = data.data.children,\n",
       "          commentText;\n",
       "      for (var key in comments) {\n",
       "\t    post = comments[key];\n",
       "        commentText = post.data.body;\n",
       "        if (commentText.toLowerCase().match(/hillary|clinton|hilldog/i) && processed_comments.indexOf(post.data.id) === -1) {\n",
       "\n",
       "          $(\"#reddit-content\").prepend( '<hr>' );\n",
       "          $(\"#reddit-content\").prepend( '<br>Comment: <a href=\"http://reddit.com/comments/'+ post.data.link_id.slice(3) + '/_/' + post.data.id + '?context=3\">(link)<br></a>' +  post.data.body );\n",
       "          $(\"#reddit-content\").prepend( '<br>Author: <a href=\"http://reddit.com/u/' + post.data.author +'\">' + post.data.author + '</a>');\n",
       "          $(\"#reddit-content\").prepend( '<br>Subreddit: <a href=\"http://reddit.com/r/' + post.data.subreddit +'\">' + post.data.subreddit + '</a>');\n",
       "          $(\"#reddit-content\").prepend( 'Submission: <a href=\"' +post.data.link_url+ '\">' + post.data.link_title + '</a>' );\n",
       "          \n",
       "          processed_comments.push(post.data.id);\n",
       "          $(\"#relevant-count\").text(processed_comments.length);\n",
       "          \n",
       "        }\n",
       "      }                \n",
       "    },\n",
       "    function() {\n",
       "      console.log(\"ERROR GETTING COMMENTS\");\n",
       "    }\n",
       "  );\n",
       "},2000);\n",
       "</script>\n"
      ],
      "text/plain": [
       "<IPython.core.display.HTML object>"
      ]
     },
     "execution_count": 9,
     "metadata": {},
     "output_type": "execute_result"
    }
   ],
   "source": [
    "from IPython.display import HTML\n",
    "mini_hilldog_script = \"\"\"\n",
    "\n",
    "<h2>Simplified \"hilldog-bot\" demo</h2>\n",
    "\n",
    "<a href=\"javascript:hilldog_toggle()\">Toggle Scraper</a><br>\n",
    "\n",
    "<a href=\"javascript:clear_output()\">Clear Output</a><br>\n",
    "\n",
    "SCRAPER IS <span id=\"scraper-is-running\" style=\"display: none;\">NOT</span> RUNNING.<br>\n",
    "\n",
    "Found <span id=\"relevant-count\">0</span> relevant comments.\n",
    "\n",
    "<hr>\n",
    "\n",
    "<div id=\"reddit-content\" style=\"overflow: auto; height: 400px;\"></div>\n",
    "\n",
    "<script>\n",
    "var processed_comments = [],\n",
    "    run_hilldog=true; \n",
    "    \n",
    "function hilldog_toggle() {\n",
    "  run_hilldog = !run_hilldog;\n",
    "  \n",
    "  if(run_hilldog){\n",
    "    $('#scraper-is-running').hide();\n",
    "  } else {\n",
    "    $('#scraper-is-running').show();\n",
    "  }\n",
    "}\n",
    "  \n",
    "function clear_output() {\n",
    "  $(\"#reddit-content\").text('');\n",
    "}\n",
    "\n",
    "var t = setInterval(function() {\n",
    "  if(!run_hilldog){return null;};\n",
    "  \n",
    "  $.ajax({\n",
    "      url: 'https://www.reddit.com/r/all/comments.json',\n",
    "      type: 'GET'\n",
    "  }).then(\n",
    "    function(data) {\n",
    "      var comments = data.data.children,\n",
    "          commentText;\n",
    "      for (var key in comments) {\n",
    "\t    post = comments[key];\n",
    "        commentText = post.data.body;\n",
    "        if (commentText.toLowerCase().match(/hillary|clinton|hilldog/i) && processed_comments.indexOf(post.data.id) === -1) {\n",
    "\n",
    "          $(\"#reddit-content\").prepend( '<hr>' );\n",
    "          $(\"#reddit-content\").prepend( '<br>Comment: <a href=\"http://reddit.com/comments/'+ post.data.link_id.slice(3) + '/_/' + post.data.id + '?context=3\">(link)<br></a>' +  post.data.body );\n",
    "          $(\"#reddit-content\").prepend( '<br>Author: <a href=\"http://reddit.com/u/' + post.data.author +'\">' + post.data.author + '</a>');\n",
    "          $(\"#reddit-content\").prepend( '<br>Subreddit: <a href=\"http://reddit.com/r/' + post.data.subreddit +'\">' + post.data.subreddit + '</a>');\n",
    "          $(\"#reddit-content\").prepend( 'Submission: <a href=\"' +post.data.link_url+ '\">' + post.data.link_title + '</a>' );\n",
    "          \n",
    "          processed_comments.push(post.data.id);\n",
    "          $(\"#relevant-count\").text(processed_comments.length);\n",
    "          \n",
    "        }\n",
    "      }                \n",
    "    },\n",
    "    function() {\n",
    "      console.log(\"ERROR GETTING COMMENTS\");\n",
    "    }\n",
    "  );\n",
    "},2000);\n",
    "</script>\n",
    "\"\"\"\n",
    "HTML(mini_hilldog_script)"
   ]
  },
  {
   "cell_type": "markdown",
   "metadata": {
    "slideshow": {
     "slide_type": "slide"
    }
   },
   "source": [
    "# Additional topics"
   ]
  },
  {
   "cell_type": "markdown",
   "metadata": {
    "slideshow": {
     "slide_type": "subslide"
    }
   },
   "source": [
    "## Trending content prediction\n",
    "\n",
    "* Identify content likely to hit front page\n",
    "* \"Piggy back\" submission visibility with early comments"
   ]
  },
  {
   "cell_type": "markdown",
   "metadata": {
    "slideshow": {
     "slide_type": "fragment"
    }
   },
   "source": [
    "* Closely Related task: identifying trends on twitter"
   ]
  },
  {
   "cell_type": "markdown",
   "metadata": {
    "slideshow": {
     "slide_type": "fragment"
    }
   },
   "source": [
    "* Proof-of-concept: [/r/risingthreads](https://www.reddit.com/r/risingthreads)"
   ]
  },
  {
   "cell_type": "markdown",
   "metadata": {
    "slideshow": {
     "slide_type": "subslide"
    }
   },
   "source": [
    "## Optimal Submission characteristics\n",
    "* Maximize visibility of your client's content\n",
    "* Time of day, day of the week, title length, title wording, etc."
   ]
  },
  {
   "cell_type": "markdown",
   "metadata": {
    "slideshow": {
     "slide_type": "fragment"
    }
   },
   "source": [
    "* Proof-of-concept : \n",
    "  * There are good/bad ways to submit\n",
    "  * Randall Olson's [\"Data driven guides\"](http://www.randalolson.com/2015/01/11/a-data-driven-guide-to-creating-successful-reddit-posts-redux/)"
   ]
  },
  {
   "cell_type": "markdown",
   "metadata": {
    "slideshow": {
     "slide_type": "fragment"
    }
   },
   "source": [
    "![Optimal Posting Times](http://www.randalolson.com/wp-content/uploads/pct-above-thrsh-100-august-heatmap-900x282.png)"
   ]
  },
  {
   "cell_type": "markdown",
   "metadata": {
    "slideshow": {
     "slide_type": "fragment"
    }
   },
   "source": [
    "  * Reddit can be gamed\n",
    "    * [/r/The_Donald](http://reddit.com/r/the_donald)'s systematic takeover of [/r/all](http://reddit.com/r/all) \n",
    "      * [\"sticky spamming\"](https://www.reddit.com/r/TheoryOfReddit/comments/4fh8s9/this_is_how_rthe_donald_gets_so_many_posts_onto/)\n",
    "    * [/u/plebiean_lifestyle](http://reddit.com/u/plebiean_lifestyle) - User achieved 100k Submission karma in 8 days\n",
    "    * [/u/Gallowboob](http://reddit.com/u/Gallowboob) - User's content regularly dominates the front page"
   ]
  }
 ],
 "metadata": {
  "celltoolbar": "Slideshow",
  "kernelspec": {
   "display_name": "Python 2",
   "language": "python",
   "name": "python2"
  },
  "language_info": {
   "codemirror_mode": {
    "name": "ipython",
    "version": 2
   },
   "file_extension": ".py",
   "mimetype": "text/x-python",
   "name": "python",
   "nbconvert_exporter": "python",
   "pygments_lexer": "ipython2",
   "version": "2.7.11"
  }
 },
 "nbformat": 4,
 "nbformat_minor": 0
}
